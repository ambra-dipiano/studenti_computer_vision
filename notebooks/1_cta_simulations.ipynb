{
 "cells": [
  {
   "cell_type": "markdown",
   "metadata": {},
   "source": [
    "## CTA simulations\n",
    "\n",
    "First we import the libraries."
   ]
  },
  {
   "cell_type": "code",
   "execution_count": 1,
   "metadata": {},
   "outputs": [],
   "source": [
    "# import the required libraries\n",
    "import os\n",
    "from os.path import expandvars\n",
    "import ctools"
   ]
  },
  {
   "cell_type": "markdown",
   "metadata": {},
   "source": [
    "We can make a folder to store the example data that will be created in this tutorial and used in the futher ones. "
   ]
  },
  {
   "cell_type": "code",
   "execution_count": 2,
   "metadata": {},
   "outputs": [],
   "source": [
    "if not os.path.isdir('../data'):\n",
    "    os.mkdir('../data')"
   ]
  },
  {
   "cell_type": "markdown",
   "metadata": {},
   "source": [
    "We need to export the two main environmental variables for ctools (if you already saved them in the notebook settings then you don't require this passage). You will simply have to change the path in order to provide the location of the <code>CTOOLS</code> and <code>CALDB</code> folders. See below:"
   ]
  },
  {
   "cell_type": "code",
   "execution_count": 3,
   "metadata": {},
   "outputs": [
    {
     "name": "stdout",
     "output_type": "stream",
     "text": [
      "/data01/homes/dipiano/.conda/envs/cta_simulation\n",
      "/data01/homes/dipiano/.conda/envs/cta_simulation/share/caldb/\n"
     ]
    }
   ],
   "source": [
    "os.environ[\"CALDB\"] = expandvars(\"$CTOOLS/share/caldb/\")\n",
    "print(expandvars(\"$CTOOLS\"))\n",
    "print(expandvars(\"$CALDB\"))"
   ]
  },
  {
   "cell_type": "markdown",
   "metadata": {},
   "source": [
    "For simplicity let's make a wrapper of the ctools MC simulator. We can write a function with some default parameters in order to invoke it when needed."
   ]
  },
  {
   "cell_type": "code",
   "execution_count": 4,
   "metadata": {},
   "outputs": [],
   "source": [
    "def run_ctobssim(model, pointing, output, energy=(0.03, 150), time=(0, 1200), fov=5, caldb='prod3b-v2', irf='South_z40_0.5h', seed=1):\n",
    "    sim = ctools.ctobssim()\n",
    "    sim[\"inmodel\"] = model\n",
    "    sim[\"outevents\"] = output\n",
    "    sim[\"caldb\"] = caldb\n",
    "    sim[\"irf\"] = irf\n",
    "    sim[\"ra\"] = pointing[0]\n",
    "    sim[\"dec\"] = pointing[1]\n",
    "    sim[\"rad\"] = fov\n",
    "    sim[\"tmin\"] = time[0]\n",
    "    sim[\"tmax\"] = time[1]\n",
    "    sim[\"emin\"] = energy[0]\n",
    "    sim[\"emax\"] = energy[1]\n",
    "    sim[\"seed\"] = seed\n",
    "    sim.execute()\n",
    "    # if you want to run in memory:\n",
    "    #sim.run()"
   ]
  },
  {
   "cell_type": "markdown",
   "metadata": {},
   "source": [
    "The same thing we do with the tool that produces the skymaps, we make a wrapping function to call at our need."
   ]
  },
  {
   "cell_type": "code",
   "execution_count": 5,
   "metadata": {},
   "outputs": [],
   "source": [
    "def run_skymap(obs, output, energy=(0.03, 150), roi=5, caldb='prod3b-v2', irf='South_z40_0.5h', wbin=0.02):\n",
    "    nbin = int(roi*2/wbin)\n",
    "    skymap = ctools.ctskymap()\n",
    "    skymap['inobs'] = obs\n",
    "    skymap['outmap'] = output\n",
    "    skymap['irf'] = irf\n",
    "    skymap['caldb'] = caldb\n",
    "    skymap['emin'] = energy[0]\n",
    "    skymap['emax'] = energy[1]\n",
    "    skymap['usepnt'] = True\n",
    "    skymap['nxpix'] = nbin\n",
    "    skymap['nypix'] = nbin\n",
    "    skymap['binsz'] = wbin\n",
    "    skymap['bkgsubtract'] = 'IRF'\n",
    "    skymap.execute()\n",
    "    # if you want to run in memory:\n",
    "    #sim.run()"
   ]
  },
  {
   "cell_type": "markdown",
   "metadata": {},
   "source": [
    "Let's fix the pointing."
   ]
  },
  {
   "cell_type": "code",
   "execution_count": 6,
   "metadata": {},
   "outputs": [],
   "source": [
    "pointing = (83.6331, 22.5145)"
   ]
  },
  {
   "cell_type": "markdown",
   "metadata": {},
   "source": [
    "## Background simulation and map\n",
    "\n",
    "We can run the simulation of the background and then use the observation produced to run create the skymap. The simulation will be used in tutorial <code>3_find_prefactor.ipynb</code> to evaluate the background level and find the prefactor required to simulate a source with given significance. The skymap can be used as visual inspection of the simulation and as part of the training of the ML algorithm."
   ]
  },
  {
   "cell_type": "code",
   "execution_count": 7,
   "metadata": {},
   "outputs": [],
   "source": [
    "model = '$CTOOLS/share/models/bkg_irf.xml'\n",
    "run_ctobssim(model=model, pointing=pointing, output='../data/bkg_test_sim.fits')\n",
    "obs = '../data/bkg_test_sim.fits'\n",
    "run_skymap(obs=obs, output='../data/bkg_test_sky.fits')"
   ]
  },
  {
   "cell_type": "markdown",
   "metadata": {},
   "source": [
    "## Source simulation and map\n",
    "\n",
    "Before this step you should have modified the source model (i.e., crab.xml) with the correct prefactor. You can do so manually or use the provided class in <code>sagsci</code> package for which you can find an example in <code>4_update_source_model.ipynb</code>."
   ]
  },
  {
   "cell_type": "code",
   "execution_count": 8,
   "metadata": {},
   "outputs": [],
   "source": [
    "model = '$CTOOLS/share/models/crab.xml'\n",
    "run_ctobssim(model=model, pointing=pointing, output='../data/crab_test_sim.fits')\n",
    "obs = '../data/crab_test_sim.fits'\n",
    "run_skymap(obs=obs, output='../data/crab_test_sky.fits')"
   ]
  },
  {
   "cell_type": "markdown",
   "metadata": {},
   "source": []
  }
 ],
 "metadata": {
  "interpreter": {
   "hash": "ae61994de36ddb6ceb490e2f946c20cbbe71e4bd745616309b0a6e4ed7306931"
  },
  "kernelspec": {
   "display_name": "cta_simulation",
   "language": "python",
   "name": "cta_simulation"
  },
  "language_info": {
   "codemirror_mode": {
    "name": "ipython",
    "version": 3
   },
   "file_extension": ".py",
   "mimetype": "text/x-python",
   "name": "python",
   "nbconvert_exporter": "python",
   "pygments_lexer": "ipython3",
   "version": "3.7.7"
  }
 },
 "nbformat": 4,
 "nbformat_minor": 2
}
