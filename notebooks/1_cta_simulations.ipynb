{
 "cells": [
  {
   "cell_type": "markdown",
   "metadata": {},
   "source": [
    "## CTA simulations\n",
    "\n",
    "First we import the libraries."
   ]
  },
  {
   "cell_type": "code",
   "execution_count": 1,
   "metadata": {},
   "outputs": [],
   "source": [
    "# import the required libraries\n",
    "import os\n",
    "import ctools"
   ]
  },
  {
   "cell_type": "markdown",
   "metadata": {},
   "source": [
    "We can make a folder to store the example data that will be created in this tutorial and used in the futher ones. "
   ]
  },
  {
   "cell_type": "code",
   "execution_count": 2,
   "metadata": {},
   "outputs": [],
   "source": [
    "if not os.path.isdir('../data'):\n",
    "    os.mkdir('../data')"
   ]
  },
  {
   "cell_type": "markdown",
   "metadata": {},
   "source": [
    "For simplicity let's make a wrapper of the ctools MC simulator. We can write a function with some default parameters in order to invoke it when needed."
   ]
  },
  {
   "cell_type": "code",
   "execution_count": 3,
   "metadata": {},
   "outputs": [],
   "source": [
    "def run_ctobssim(model, pointing, output, energy=(0.03, 150), time=(0, 1200), fov=5, caldb='prod3b-v2', irf='South_z40_0.5h', seed=1):\n",
    "    sim = ctools.ctobssim()\n",
    "    sim[\"inmodel\"] = model\n",
    "    sim[\"outevents\"] = output\n",
    "    sim[\"caldb\"] = caldb\n",
    "    sim[\"irf\"] = irf\n",
    "    sim[\"ra\"] = pointing[0]\n",
    "    sim[\"dec\"] = pointing[1]\n",
    "    sim[\"rad\"] = fov\n",
    "    sim[\"tmin\"] = time[0]\n",
    "    sim[\"tmax\"] = time[1]\n",
    "    sim[\"emin\"] = energy[0]\n",
    "    sim[\"emax\"] = energy[1]\n",
    "    sim[\"seed\"] = seed\n",
    "    sim.execute()\n",
    "    # if you want to run in memory:\n",
    "    #sim.run()"
   ]
  },
  {
   "cell_type": "markdown",
   "metadata": {},
   "source": [
    "The same thing we do with the tool that produces the skymaps, we make a wrapping function to call at our need."
   ]
  },
  {
   "cell_type": "code",
   "execution_count": 4,
   "metadata": {},
   "outputs": [],
   "source": [
    "def run_skymap(obs, output, energy=(0.03, 150), roi=5, caldb='prod3b-v2', irf='South_z40_0.5h', wbin=0.02):\n",
    "    nbin = int(roi*2/wbin)\n",
    "    skymap = ctools.ctskymap()\n",
    "    skymap['inobs'] = obs\n",
    "    skymap['outmap'] = output\n",
    "    skymap['irf'] = irf\n",
    "    skymap['caldb'] = caldb\n",
    "    skymap['emin'] = energy[0]\n",
    "    skymap['emax'] = energy[1]\n",
    "    skymap['usepnt'] = True\n",
    "    skymap['nxpix'] = nbin\n",
    "    skymap['nypix'] = nbin\n",
    "    skymap['binsz'] = wbin\n",
    "    skymap['bkgsubtract'] = 'IRF'\n",
    "    skymap.execute()\n",
    "    # if you want to run in memory:\n",
    "    #sim.run()"
   ]
  },
  {
   "cell_type": "markdown",
   "metadata": {},
   "source": [
    "Let's fix the pointing."
   ]
  },
  {
   "cell_type": "code",
   "execution_count": 5,
   "metadata": {},
   "outputs": [],
   "source": [
    "pointing = (83.6331, 22.5145)"
   ]
  },
  {
   "cell_type": "markdown",
   "metadata": {},
   "source": [
    "## Background simulation and map\n",
    "\n",
    "We can run the simulation of the background and then use the observation produced to run create the skymap. The simulation will be used in tutorial <code>3_find_prefactor.ipynb</code> to evaluate the background level and find the prefactor required to simulate a source with given significance. Alternatively you can used the template model <code>crab4sigmas.xml</code> in <code>models</code>. The skymap can be used as visual inspection of the simulation and as part of the training of the ML algorithm."
   ]
  },
  {
   "cell_type": "code",
   "execution_count": 6,
   "metadata": {},
   "outputs": [],
   "source": [
    "model = '../models/bkg_irf.xml'\n",
    "run_ctobssim(model=model, pointing=pointing, output='../data/bkg_test_sim.fits')\n",
    "obs = '../data/bkg_test_sim.fits'\n",
    "run_skymap(obs=obs, output='../data/bkg_test_sky.fits')"
   ]
  },
  {
   "cell_type": "markdown",
   "metadata": {},
   "source": [
    "## Source simulation and map\n",
    "\n",
    "Before this step you should have modified the source model (i.e., crab.xml) with the correct prefactor. You can do so manually or use the provided class in <code>sagsci</code> package for which you can find an example in <code>4_update_source_model.ipynb</code>. For a shortcut I have provided in <code>models</code> folder a template source model with the correct Prefactor for a 4 sigmas simulation of the Crab Nebula. The suggestion is to never go below this value."
   ]
  },
  {
   "cell_type": "code",
   "execution_count": 7,
   "metadata": {},
   "outputs": [],
   "source": [
    "model = '../models/crab4sigmas.xml'\n",
    "run_ctobssim(model=model, pointing=pointing, output='../data/crab_test_sim.fits')\n",
    "obs = '../data/crab_test_sim.fits'\n",
    "run_skymap(obs=obs, output='../data/crab_test_sky.fits')"
   ]
  },
  {
   "cell_type": "markdown",
   "metadata": {},
   "source": []
  }
 ],
 "metadata": {
  "interpreter": {
   "hash": "0b45b34f523762e04b959f5e7374bc0c75ca8fccf6fe78cc1f8bbae051069069"
  },
  "kernelspec": {
   "display_name": "Python 3.7.7 64-bit ('cta_simulation': conda)",
   "language": "python",
   "name": "python3"
  },
  "language_info": {
   "codemirror_mode": {
    "name": "ipython",
    "version": 3
   },
   "file_extension": ".py",
   "mimetype": "text/x-python",
   "name": "python",
   "nbconvert_exporter": "python",
   "pygments_lexer": "ipython3",
   "version": "3.7.7"
  }
 },
 "nbformat": 4,
 "nbformat_minor": 2
}
