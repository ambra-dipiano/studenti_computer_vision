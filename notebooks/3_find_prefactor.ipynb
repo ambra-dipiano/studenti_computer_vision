{
 "cells": [
  {
   "cell_type": "markdown",
   "metadata": {},
   "source": [
    "# Prefactor value required to simulate a given SNR \n",
    "\n",
    "First we import the required libraries."
   ]
  },
  {
   "cell_type": "code",
   "execution_count": null,
   "metadata": {},
   "outputs": [],
   "source": [
    "import os\n",
    "from os.path import isfile, expandvars\n",
    "from sagsci.tools.utils import *"
   ]
  },
  {
   "cell_type": "markdown",
   "metadata": {},
   "source": [
    "We need a background simulation to estimate the background counts in a given region of the field of view. Then we need to save the configuration of the background similation (which will also be the same configuration for the simulation of the source)."
   ]
  },
  {
   "cell_type": "code",
   "execution_count": null,
   "metadata": {},
   "outputs": [],
   "source": [
    "# observation and target\n",
    "obs_bkg = '../data/bkg_test_sim.fits'\n",
    "target = {'ra': 83.6331, 'dec': 22.0145}\n",
    "\n",
    "# configuration\n",
    "sigma = 4                  # significance in gaussian sigmas\n",
    "erange = [0.03, 150]       # energy in teraelectronvolt (TeV)\n",
    "trange = [0, 1200]         # livetime in seconds (s)\n",
    "radius = 0.2               # photometry region in degrees (deg)\n",
    "spectral_index = -2.48     # slope of the power-law spectrum\n",
    "\n",
    "# we need to add \"radius\" to the target dictionary \n",
    "target['rad'] = radius"
   ]
  },
  {
   "cell_type": "markdown",
   "metadata": {},
   "source": [
    "We will also need the Instrument Response Function (IRF) file. If you have installed **ctools** then you can use the <code>$CTOOLS</code> environmental variable, or you can export the path where you installed the prod folder. \n",
    "\n",
    "Alternatively you will just have to pass the correct path to the irf file."
   ]
  },
  {
   "cell_type": "code",
   "execution_count": null,
   "metadata": {},
   "outputs": [],
   "source": [
    "# using $CTOOLS variable:\n",
    "irf = expandvars('$CTOOLS/share/caldb/data/cta/prod3b-v2/bcf/South_z40_0.5h/irf_file.fits')\n",
    "# if you have installed the caldb elswhere the you can pass the path:\n",
    "#irf = '../../caldb/data/cta/prod3b-v2/bcf/South_z40_0.5h/irf_file.fits'"
   ]
  },
  {
   "cell_type": "markdown",
   "metadata": {},
   "source": [
    "From the background simulation we can retrive the poiting."
   ]
  },
  {
   "cell_type": "code",
   "execution_count": null,
   "metadata": {},
   "outputs": [],
   "source": [
    "pointing = get_obs_pointing(filename=obs_bkg)\n",
    "print(f'pointing = {pointing} deg')"
   ]
  },
  {
   "cell_type": "markdown",
   "metadata": {},
   "source": [
    "### STEP 1 - Background counts\n",
    "\n",
    "Now we count the background photons found within a region of <code>radius</code> centered on coordinates where we want to simulate the source."
   ]
  },
  {
   "cell_type": "code",
   "execution_count": null,
   "metadata": {},
   "outputs": [],
   "source": [
    "# remove existing files\n",
    "offregionsfile = obs_bkg.replace('.fits', '.reg')\n",
    "if isfile(offregionsfile):\n",
    "    os.remove(offregionsfile)\n",
    "    \n",
    "# compute counts\n",
    "bkg_counts_in_region = get_counts_in_region(filename=obs_bkg, target=target, pointing=pointing, trange=trange, erange=erange, off_regions=offregionsfile)\n",
    "\n",
    "# print background counts\n",
    "print(f'background counts = {bkg_counts_in_region} counts')"
   ]
  },
  {
   "cell_type": "markdown",
   "metadata": {},
   "source": [
    "### STEP 2 - Prefactor given sigma and background counts\n",
    "\n",
    "Given the configured sigma and the computed background counts, we can now find the prefactor required to simulate the source at the desired significance level."
   ]
  },
  {
   "cell_type": "code",
   "execution_count": null,
   "metadata": {},
   "outputs": [],
   "source": [
    "prefactor = get_prefactor_from_bkg_and_sigma(sigma=sigma, bkg=bkg_counts_in_region, target=target, \n",
    "                                             pointing=pointing, trange=trange, erange=erange, irf=irf, \n",
    "                                             spectral_index=spectral_index)\n",
    "# print prefactor\n",
    "print(f'prefactor = {prefactor} ph/cm2/s/MeV')"
   ]
  },
  {
   "cell_type": "markdown",
   "metadata": {},
   "source": [
    "### Explanation of STEP 2\n",
    "\n",
    "The function <code>get_prefactor_from_bkg_and_sigma</code> is a wrapper that executes the following procedure. First we compute the expected counts excess for a given <code>sigma</code> given the background counts."
   ]
  },
  {
   "cell_type": "code",
   "execution_count": null,
   "metadata": {},
   "outputs": [],
   "source": [
    "excess = get_excess_from_sigma_and_bkg(sigma=sigma, bkg=bkg_counts_in_region)\n",
    "print(f'excess = {excess} counts')"
   ]
  },
  {
   "cell_type": "markdown",
   "metadata": {},
   "source": [
    "Then we can check the inverse of the forumla to verify we obtain the same significance."
   ]
  },
  {
   "cell_type": "code",
   "execution_count": null,
   "metadata": {},
   "outputs": [],
   "source": [
    "snr = get_snr(signal=excess, bkg=bkg_counts_in_region)\n",
    "print(f'snr = {snr} sigmas')"
   ]
  },
  {
   "cell_type": "markdown",
   "metadata": {},
   "source": [
    "In order to obtain the flux from the excess counts, we need to compute the exposure (the effective area times the livetime) from the IRF."
   ]
  },
  {
   "cell_type": "code",
   "execution_count": null,
   "metadata": {},
   "outputs": [],
   "source": [
    "exposure = get_exposure_in_region(target=target, pointing=pointing, trange=trange, erange=erange, irf=irf, index=spectral_index)\n",
    "print(f'exposure = {exposure} cm2/s')"
   ]
  },
  {
   "cell_type": "markdown",
   "metadata": {},
   "source": [
    "The Flux is then found as the excess divided by the exposure."
   ]
  },
  {
   "cell_type": "code",
   "execution_count": null,
   "metadata": {},
   "outputs": [],
   "source": [
    "flux = excess / exposure \n",
    "print(f'flux = {flux} ph/cm2/s')"
   ]
  },
  {
   "cell_type": "markdown",
   "metadata": {},
   "source": [
    "From the flux we can, given the energy range and a spectral index, compute the required prefactor. This value will be the amplitude of the spectrum to use when simulating a source at <code>sigma</code>."
   ]
  },
  {
   "cell_type": "code",
   "execution_count": null,
   "metadata": {},
   "outputs": [],
   "source": [
    "prefactor = get_prefactor(flux=flux, erange=erange, gamma=spectral_index, unit='TeV')\n",
    "print(f'prefactor = {prefactor} ph/cm2/s/MeV')"
   ]
  },
  {
   "cell_type": "code",
   "execution_count": null,
   "metadata": {},
   "outputs": [],
   "source": []
  }
 ],
 "metadata": {
  "interpreter": {
   "hash": "00f72d6c53b361534d1968275eaeaf22ef7f6237584dbcad85cb621b442672d3"
  },
  "kernelspec": {
   "display_name": "cta_simulation",
   "language": "python",
   "name": "python3"
  },
  "language_info": {
   "codemirror_mode": {
    "name": "ipython",
    "version": 3
   },
   "file_extension": ".py",
   "mimetype": "text/x-python",
   "name": "python",
   "nbconvert_exporter": "python",
   "pygments_lexer": "ipython3",
   "version": "3.7.3"
  }
 },
 "nbformat": 4,
 "nbformat_minor": 2
}
