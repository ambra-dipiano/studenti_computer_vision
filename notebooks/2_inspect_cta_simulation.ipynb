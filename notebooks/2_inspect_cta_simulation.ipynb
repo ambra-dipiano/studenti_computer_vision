{
 "cells": [
  {
   "cell_type": "markdown",
   "metadata": {},
   "source": [
    "## Inspect the CTA simulations and the spectra\n",
    "\n",
    "First we import the required libraries."
   ]
  },
  {
   "cell_type": "code",
   "execution_count": null,
   "metadata": {},
   "outputs": [],
   "source": [
    "import matplotlib.pyplot as plt\n",
    "from astropy.io import fits\n",
    "from astropy.wcs import WCS\n",
    "from matplotlib.colors import SymLogNorm, LogNorm\n",
    "from astropy import units as u"
   ]
  },
  {
   "cell_type": "markdown",
   "metadata": {},
   "source": [
    "Let's define which skymap to plot. For this example we will plot the same background and source we simulated in the previous exercise."
   ]
  },
  {
   "cell_type": "code",
   "execution_count": null,
   "metadata": {},
   "outputs": [],
   "source": [
    "# observation and target\n",
    "bkg_skymap = '../data/bkg_test_sky.fits'\n",
    "crab_skymap = '../data/crab_test_sky.fits'"
   ]
  },
  {
   "cell_type": "markdown",
   "metadata": {},
   "source": [
    "Let's define a function to wrap all the operations required for the plot. This way we can reuse it multiple times with a single line of code."
   ]
  },
  {
   "cell_type": "code",
   "execution_count": null,
   "metadata": {},
   "outputs": [],
   "source": [
    "def plot_fits_skymap(file, name='skymap.png', title=None, xlabel='right ascension (deg)', ylabel='declination (deg)', figsize=(10, 10), fontsize=20, cmap='magma'):\n",
    "    # get map\n",
    "    with fits.open(file) as hdul:\n",
    "        wcs = WCS(hdul[0].header)\n",
    "        data = hdul[0].data\n",
    "\n",
    "    # plot\n",
    "    fig = plt.figure(figsize=figsize) \n",
    "    ax = plt.subplot(projection=wcs)\n",
    "    img = plt.imshow(data, norm=SymLogNorm(1), interpolation='gaussian', cmap=cmap)\n",
    "    ax.coords[0].set_format_unit(u.deg)\n",
    "    ax.coords[1].set_format_unit(u.deg)\n",
    "    cb = plt.colorbar(img, ax=ax)\n",
    "    # axis\n",
    "    ax.tick_params(axis='both', labelsize=fontsize)\n",
    "    cb.ax.tick_params(labelsize=fontsize) \n",
    "    cb.set_label('counts', fontsize=fontsize)\n",
    "    ax.set_xlabel(xlabel, fontsize=fontsize)\n",
    "    ax.set_ylabel(ylabel, fontsize=fontsize)\n",
    "    ax.set_title(title, fontsize=fontsize)\n",
    "    ax.grid(color='grey', ls='solid')\n",
    "    fig.tight_layout()\n",
    "    fig.savefig(name)\n",
    "    return "
   ]
  },
  {
   "cell_type": "markdown",
   "metadata": {},
   "source": [
    "We can start by plotting the background simulation."
   ]
  },
  {
   "cell_type": "code",
   "execution_count": null,
   "metadata": {},
   "outputs": [],
   "source": [
    "plot_fits_skymap(file=bkg_skymap, name=bkg_skymap.replace('.fits', '.png'), figsize=(6, 6), fontsize=15)"
   ]
  },
  {
   "cell_type": "markdown",
   "metadata": {},
   "source": []
  },
  {
   "cell_type": "code",
   "execution_count": null,
   "metadata": {},
   "outputs": [],
   "source": [
    "from IPython import display\n",
    "display.Image(\"../data/bkg_test_sky.png\")"
   ]
  },
  {
   "cell_type": "markdown",
   "metadata": {},
   "source": [
    "Now we do the same for the source simulation."
   ]
  },
  {
   "cell_type": "code",
   "execution_count": null,
   "metadata": {},
   "outputs": [],
   "source": [
    "plot_fits_skymap(file=crab_skymap, name=crab_skymap.replace('.fits', '.png'), figsize=(6, 6), fontsize=15)\n",
    "display.Image(\"../data/crab_test_sky.png\")"
   ]
  },
  {
   "cell_type": "code",
   "execution_count": null,
   "metadata": {},
   "outputs": [],
   "source": []
  }
 ],
 "metadata": {
  "interpreter": {
   "hash": "00f72d6c53b361534d1968275eaeaf22ef7f6237584dbcad85cb621b442672d3"
  },
  "kernelspec": {
   "display_name": "Python 3.7.7 64-bit ('cta_simulation': conda)",
   "language": "python",
   "name": "python3"
  },
  "language_info": {
   "codemirror_mode": {
    "name": "ipython",
    "version": 3
   },
   "file_extension": ".py",
   "mimetype": "text/x-python",
   "name": "python",
   "nbconvert_exporter": "python",
   "pygments_lexer": "ipython3",
   "version": "3.7.3"
  }
 },
 "nbformat": 4,
 "nbformat_minor": 2
}
