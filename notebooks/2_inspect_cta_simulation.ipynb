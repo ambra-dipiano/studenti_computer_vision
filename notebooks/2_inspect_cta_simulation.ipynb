{
 "cells": [
  {
   "cell_type": "markdown",
   "metadata": {},
   "source": [
    "## Inspect the CTA simulations and the spectra\n",
    "\n",
    "First we import the required libraries."
   ]
  },
  {
   "cell_type": "code",
   "execution_count": null,
   "metadata": {},
   "outputs": [],
   "source": [
    "from sagsci.tools.plotting import *"
   ]
  },
  {
   "cell_type": "markdown",
   "metadata": {},
   "source": [
    "Let's define which skymap to plot. For this example we will plot the same background and source we simulated in the previous exercise."
   ]
  },
  {
   "cell_type": "code",
   "execution_count": null,
   "metadata": {},
   "outputs": [],
   "source": [
    "# observation and target\n",
    "bkg_skymap = '../data/bkg_test_sky.fits'\n",
    "crab_skymap = '../data/crab_test_sky.fits'"
   ]
  },
  {
   "cell_type": "markdown",
   "metadata": {},
   "source": [
    "We can start by plotting the background simulation."
   ]
  },
  {
   "cell_type": "code",
   "execution_count": null,
   "metadata": {},
   "outputs": [],
   "source": [
    "sky = SkyImage()\n",
    "sky.plot_fits_skymap(file=bkg_skymap, name=bkg_skymap.replace('.fits', '.png'), figsize=(6, 6), fontsize=15)"
   ]
  },
  {
   "cell_type": "markdown",
   "metadata": {},
   "source": []
  },
  {
   "cell_type": "code",
   "execution_count": null,
   "metadata": {},
   "outputs": [],
   "source": [
    "from IPython import display\n",
    "display.Image(\"../data/bkg_test_sky.png\")"
   ]
  },
  {
   "cell_type": "markdown",
   "metadata": {},
   "source": [
    "Now we do the same for the source simulation."
   ]
  },
  {
   "cell_type": "code",
   "execution_count": null,
   "metadata": {},
   "outputs": [],
   "source": [
    "sky.plot_fits_skymap(file=crab_skymap, name=crab_skymap.replace('.fits', '.png'))\n",
    "display.Image(\"../data/crab_test_sky.png\")"
   ]
  }
 ],
 "metadata": {
  "interpreter": {
   "hash": "ae61994de36ddb6ceb490e2f946c20cbbe71e4bd745616309b0a6e4ed7306931"
  },
  "kernelspec": {
   "display_name": "Python 3.7.7 64-bit ('rtasci': conda)",
   "language": "python",
   "name": "python3"
  },
  "language_info": {
   "codemirror_mode": {
    "name": "ipython",
    "version": 3
   },
   "file_extension": ".py",
   "mimetype": "text/x-python",
   "name": "python",
   "nbconvert_exporter": "python",
   "pygments_lexer": "ipython3",
   "version": "3.7.3"
  },
  "orig_nbformat": 4
 },
 "nbformat": 4,
 "nbformat_minor": 2
}
