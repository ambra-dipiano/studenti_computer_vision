{
 "cells": [
  {
   "cell_type": "markdown",
   "metadata": {},
   "source": [
    "# Photometry verification\n",
    "\n",
    "Lets verify that from the simulation of the source we get back 4 sigmas using proper photometry methods. First we import the required packages."
   ]
  },
  {
   "cell_type": "code",
   "execution_count": null,
   "metadata": {},
   "outputs": [],
   "source": [
    "import os\n",
    "from os.path import isfile\n",
    "from sagsci.tools.utils import *\n",
    "from sagsci.tools.photometry import *"
   ]
  },
  {
   "cell_type": "markdown",
   "metadata": {},
   "source": [
    "Let's define the simulation files and some parameters required to perform an aperture photometry analysis."
   ]
  },
  {
   "cell_type": "code",
   "execution_count": null,
   "metadata": {},
   "outputs": [],
   "source": [
    "# observation and target\n",
    "obs_crab = '../data/crab_test_sim.fits'\n",
    "target = {'ra': 83.6331, 'dec': 22.0145}\n",
    "pointing = {'ra': 83.6331, 'dec': 22.5145}\n",
    "\n",
    "# configuration\n",
    "erange = [0.03, 150]       # energy in teraelectronvolt (TeV)\n",
    "trange = [0, 1200]         # livetime in seconds (s)\n",
    "radius = 0.2               # photometry region in degrees (deg)\n",
    "spectral_index = -2.48     # slope of the power-law spectrum\n",
    "\n",
    "# we need to add \"radius\" to the target dictionary \n",
    "target['rad'] = radius"
   ]
  },
  {
   "cell_type": "markdown",
   "metadata": {},
   "source": [
    "Now we initialise the <code>Photometric</code> class and perform the aperture photometry to retrive the counts and significance."
   ]
  },
  {
   "cell_type": "code",
   "execution_count": null,
   "metadata": {},
   "outputs": [],
   "source": [
    "phm = Photometrics({'events_filename': obs_crab})"
   ]
  },
  {
   "cell_type": "markdown",
   "metadata": {},
   "source": [
    "Firs we require to extract the off regions given the target and pointing of choice."
   ]
  },
  {
   "cell_type": "code",
   "execution_count": null,
   "metadata": {},
   "outputs": [],
   "source": [
    "# remove duplicate files\n",
    "offregionsfile = obs_crab.replace('.fits', '_off.reg')\n",
    "if isfile(offregionsfile):\n",
    "    os.remove(obs_crab.replace('.fits', '_off.reg'))\n",
    "    \n",
    "# compute regions\n",
    "off_regions = phm.find_off_regions(algo='cross', src=target, pnt=pointing, rad=target['rad'], save=offregionsfile)    "
   ]
  },
  {
   "cell_type": "markdown",
   "metadata": {},
   "source": [
    "Now we compute the on and off counts, the excess and the significance."
   ]
  },
  {
   "cell_type": "code",
   "execution_count": null,
   "metadata": {},
   "outputs": [],
   "source": [
    "on, off, alpha, excess, sigma, err_note = phm.counting(src=target, rad=target['rad'], off_regions=off_regions, e_min=erange[0], e_max=erange[1], t_min=trange[0], t_max=trange[1], draconian=False)\n"
   ]
  },
  {
   "cell_type": "markdown",
   "metadata": {},
   "source": [
    "Let's check the significance of the observation."
   ]
  },
  {
   "cell_type": "code",
   "execution_count": null,
   "metadata": {},
   "outputs": [],
   "source": [
    "on, off, excess, sigma"
   ]
  },
  {
   "cell_type": "code",
   "execution_count": null,
   "metadata": {},
   "outputs": [],
   "source": []
  }
 ],
 "metadata": {
  "kernelspec": {
   "display_name": "cta_simulation",
   "language": "python",
   "name": "cta_simulation"
  },
  "language_info": {
   "codemirror_mode": {
    "name": "ipython",
    "version": 3
   },
   "file_extension": ".py",
   "mimetype": "text/x-python",
   "name": "python",
   "nbconvert_exporter": "python",
   "pygments_lexer": "ipython3",
   "version": "3.7.7"
  }
 },
 "nbformat": 4,
 "nbformat_minor": 2
}
