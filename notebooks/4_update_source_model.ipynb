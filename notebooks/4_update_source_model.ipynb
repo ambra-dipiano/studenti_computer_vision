{
 "cells": [
  {
   "cell_type": "markdown",
   "metadata": {},
   "source": [
    "## A class for updating xml files\n",
    "\n",
    "First we import the required libraries and export the environment variables like we did in the previous exercises. We want to make a copy of the original file in order to not mess with the correct astrophysical templates."
   ]
  },
  {
   "cell_type": "code",
   "execution_count": null,
   "metadata": {},
   "outputs": [],
   "source": [
    "import os\n",
    "import shutil\n",
    "from os.path import expandvars\n",
    "from sagsci.tools.myxml import MyXml\n",
    "\n",
    "os.environ[\"CTOOLS\"] = \"/path/to/your/env/\"\n",
    "print(expandvars(\"$CTOOLS\"))"
   ]
  },
  {
   "cell_type": "markdown",
   "metadata": {},
   "source": [
    "Let's define one file to use as example and a couple of parameters we will want to try and update."
   ]
  },
  {
   "cell_type": "code",
   "execution_count": null,
   "metadata": {},
   "outputs": [],
   "source": [
    "# source model \n",
    "model = expandvars(\"$CTOOLS/share/models/crab.xml\")\n",
    "model_copy = '../data/crab_test_model.xml'\n",
    "shutil.copy(model, model_copy)\n",
    "\n",
    "# parameters\n",
    "target = {'ra': 222.5, 'dec': -30.8}\n",
    "prefactor = {'value': 7.96, 'scale': 1e-19}"
   ]
  },
  {
   "cell_type": "markdown",
   "metadata": {},
   "source": [
    "Let's print the content of the file in order to verify the initial parameters."
   ]
  },
  {
   "cell_type": "code",
   "execution_count": null,
   "metadata": {},
   "outputs": [],
   "source": [
    "print(open(model_copy, 'r').read())"
   ]
  },
  {
   "cell_type": "markdown",
   "metadata": {},
   "source": [
    "Now we can initialise the class and then modify the parameters that we want to update."
   ]
  },
  {
   "cell_type": "code",
   "execution_count": null,
   "metadata": {},
   "outputs": [],
   "source": [
    "xml = MyXml(model_copy)\n",
    "xml.setModelParametersValue(parameters=['RA', 'DEC', 'Prefactor'], values=[target['ra'], target['dec'], prefactor['value']]).setModelParametersScale(parameters=['Prefactor'], values=[prefactor['scale']]).closeXml()"
   ]
  },
  {
   "cell_type": "markdown",
   "metadata": {},
   "source": [
    "Now let's print again the file to see the saved changes"
   ]
  },
  {
   "cell_type": "code",
   "execution_count": null,
   "metadata": {},
   "outputs": [],
   "source": [
    "print(open(model_copy, 'r').read())"
   ]
  },
  {
   "cell_type": "markdown",
   "metadata": {},
   "source": []
  }
 ],
 "metadata": {
  "interpreter": {
   "hash": "ae61994de36ddb6ceb490e2f946c20cbbe71e4bd745616309b0a6e4ed7306931"
  },
  "kernelspec": {
   "display_name": "Python 3.7.7 64-bit ('rtasci': conda)",
   "language": "python",
   "name": "python3"
  },
  "language_info": {
   "codemirror_mode": {
    "name": "ipython",
    "version": 3
   },
   "file_extension": ".py",
   "mimetype": "text/x-python",
   "name": "python",
   "nbconvert_exporter": "python",
   "pygments_lexer": "ipython3",
   "version": "3.7.3"
  },
  "orig_nbformat": 4
 },
 "nbformat": 4,
 "nbformat_minor": 2
}
